{
  "nbformat": 4,
  "nbformat_minor": 0,
  "metadata": {
    "colab": {
      "provenance": [],
      "gpuType": "T4",
      "authorship_tag": "ABX9TyP8N+MrbAWEYFlGH40mnN0F",
      "include_colab_link": true
    },
    "kernelspec": {
      "name": "python3",
      "display_name": "Python 3"
    },
    "language_info": {
      "name": "python"
    }
  },
  "cells": [
    {
      "cell_type": "markdown",
      "metadata": {
        "id": "view-in-github",
        "colab_type": "text"
      },
      "source": [
        "<a href=\"https://colab.research.google.com/github/qIdol/Sekcja1_A/blob/main/Sekcja1_A.ipynb\" target=\"_parent\"><img src=\"https://colab.research.google.com/assets/colab-badge.svg\" alt=\"Open In Colab\"/></a>"
      ]
    },
    {
      "cell_type": "code",
      "execution_count": 1,
      "metadata": {
        "colab": {
          "base_uri": "https://localhost:8080/"
        },
        "id": "Mjm4XALuFEmx",
        "outputId": "489ec1d0-04aa-4b6b-e6d1-21da6f93eeea"
      },
      "outputs": [
        {
          "output_type": "stream",
          "name": "stdout",
          "text": [
            "0 Hello?!\n",
            "1 Hello?!\n",
            "2 Hello?!\n",
            "3 Hello?!\n",
            "4 Hello?!\n",
            "5 Hello?!\n",
            "6 Hello?!\n",
            "7 Hello?!\n",
            "8 Hello?!\n",
            "9 Hello?!\n"
          ]
        }
      ],
      "source": [
        "for i in range(10):\n",
        "  print (f\"{i} Hello?!\")"
      ]
    },
    {
      "cell_type": "markdown",
      "source": [
        "I'm just a text block"
      ],
      "metadata": {
        "id": "Cf9Hbl6zIvdo"
      }
    }
  ]
}